{
 "cells": [
  {
   "cell_type": "code",
   "execution_count": 1,
   "metadata": {
    "colab": {
     "base_uri": "https://localhost:8080/"
    },
    "executionInfo": {
     "elapsed": 2585,
     "status": "ok",
     "timestamp": 1639360248612,
     "user": {
      "displayName": "Michael Kalmus",
      "photoUrl": "https://lh3.googleusercontent.com/a-/AOh14Gi0ctc0Rmv08ljnJF9_jYxXnpRUmXLNsmVmWJGA=s64",
      "userId": "08396629992174191279"
     },
     "user_tz": 300
    },
    "id": "nXUR4tjC9h3Q",
    "outputId": "ea0c6970-9a53-4dc7-c221-d1e3d64eec3d"
   },
   "outputs": [
    {
     "name": "stdout",
     "output_type": "stream",
     "text": [
      "PyTerrier 0.7.1 has loaded Terrier 5.6 (built by craigmacdonald on 2021-09-17 13:27)\n"
     ]
    },
    {
     "name": "stderr",
     "output_type": "stream",
     "text": [
      "No etc/terrier.properties, using terrier.default.properties for bootstrap configuration.\n"
     ]
    }
   ],
   "source": [
    "import pandas as pd\n",
    "import pyterrier as pt\n",
    "if not pt.started():\n",
    "    pt.init()\n",
    "import re\n",
    "import os"
   ]
  },
  {
   "cell_type": "code",
   "execution_count": 12,
   "metadata": {
    "executionInfo": {
     "elapsed": 5,
     "status": "ok",
     "timestamp": 1639360264171,
     "user": {
      "displayName": "Michael Kalmus",
      "photoUrl": "https://lh3.googleusercontent.com/a-/AOh14Gi0ctc0Rmv08ljnJF9_jYxXnpRUmXLNsmVmWJGA=s64",
      "userId": "08396629992174191279"
     },
     "user_tz": 300
    },
    "id": "kdT1j-t5ZqET"
   },
   "outputs": [],
   "source": [
    "def clean_bio(bio):\n",
    "    try:\n",
    "        bio_alphanumeric = re.sub(r'[^a-zA-Z0-9]', ' ', bio)\n",
    "        clean_bio = re.sub(\"\\s\\s+\" , \" \", bio_alphanumeric)\n",
    "        return clean_bio\n",
    "    except:\n",
    "        return None"
   ]
  },
  {
   "cell_type": "code",
   "execution_count": 13,
   "metadata": {
    "executionInfo": {
     "elapsed": 428,
     "status": "ok",
     "timestamp": 1639360264170,
     "user": {
      "displayName": "Michael Kalmus",
      "photoUrl": "https://lh3.googleusercontent.com/a-/AOh14Gi0ctc0Rmv08ljnJF9_jYxXnpRUmXLNsmVmWJGA=s64",
      "userId": "08396629992174191279"
     },
     "user_tz": 300
    },
    "id": "lA_N-dRUdxpx"
   },
   "outputs": [],
   "source": [
    "author_df = pd.read_csv('../all_author_df.csv')\n",
    "author_df = author_df.drop('Unnamed: 0', axis=1).reset_index().rename(columns={'index': 'docno'})\n",
    "author_df[\"docno\"] = author_df[\"docno\"].apply(str)\n",
    "author_df['bio_cleaned'] = author_df['author_bio'].apply(clean_bio)"
   ]
  },
  {
   "cell_type": "code",
   "execution_count": 14,
   "metadata": {
    "colab": {
     "base_uri": "https://localhost:8080/",
     "height": 968
    },
    "executionInfo": {
     "elapsed": 168,
     "status": "ok",
     "timestamp": 1639360270520,
     "user": {
      "displayName": "Michael Kalmus",
      "photoUrl": "https://lh3.googleusercontent.com/a-/AOh14Gi0ctc0Rmv08ljnJF9_jYxXnpRUmXLNsmVmWJGA=s64",
      "userId": "08396629992174191279"
     },
     "user_tz": 300
    },
    "id": "Zs2ur83pc66c",
    "outputId": "34e74c20-bdbd-4ce8-c739-a25772129d71"
   },
   "outputs": [],
   "source": [
    "queries = pd.DataFrame([[\"q0\", \"healthcare professional\"], \n",
    "                        [\"q1\", \"baseball analyst\"],\n",
    "                        [\"q2\", \"talk show host\"],\n",
    "                        [\"q3\", \"mechanical engineer\"],\n",
    "                        [\"q4\", \"neurosurgeon\"],\n",
    "                        [\"q5\", \"movie director\"],\n",
    "                        [\"q6\", \"accountant\"],\n",
    "                        [\"q7\", \"social media influencer\"],\n",
    "                        [\"q8\", \"lawyer\"],\n",
    "                        [\"q9\", \"coffee barista\"],\n",
    "                        [\"q10\", \"industrial engineer\"],\n",
    "                        [\"q11\", \"statistician\"],\n",
    "                        [\"q12\", \"data scientist\"],\n",
    "                        [\"q13\", \"cryptocurrency investor\"],\n",
    "                        [\"q14\", \"investment banker\"],\n",
    "                        [\"q15\", \"olympian\"],\n",
    "                        [\"q16\", \"software engineer\"],\n",
    "                        [\"q17\", \"NLP expert\"],\n",
    "                        [\"q18\", \"NFT investor\"],\n",
    "                        [\"q19\", \"marine biologist\"],\n",
    "                        [\"q20\", \"doctor\"], \n",
    "                        [\"q21\", \"stockbroker\"],\n",
    "                        [\"q22\", \"veterinarian\"],\n",
    "                        [\"q23\", \"dentist\"],\n",
    "                        [\"q24\", \"receptionist\"],\n",
    "                        [\"q25\", \"pharmacist\"],\n",
    "                        [\"q26\", \"teacher\"],\n",
    "                        [\"q27\", \"architect\"],\n",
    "                        [\"q28\", \"police officer\"],\n",
    "                        [\"q29\", \"technology CEO\"]],\n",
    "                        columns=[\"qid\", \"query\"])"
   ]
  },
  {
   "cell_type": "code",
   "execution_count": 15,
   "metadata": {
    "colab": {
     "base_uri": "https://localhost:8080/"
    },
    "executionInfo": {
     "elapsed": 8185,
     "status": "ok",
     "timestamp": 1639360292618,
     "user": {
      "displayName": "Michael Kalmus",
      "photoUrl": "https://lh3.googleusercontent.com/a-/AOh14Gi0ctc0Rmv08ljnJF9_jYxXnpRUmXLNsmVmWJGA=s64",
      "userId": "08396629992174191279"
     },
     "user_tz": 300
    },
    "id": "CgkZTcXJffOw",
    "outputId": "e48c3116-8197-4af7-c452-7f83361bca22"
   },
   "outputs": [
    {
     "name": "stdout",
     "output_type": "stream",
     "text": [
      "Number of documents: 10008\n",
      "Number of terms: 19591\n",
      "Number of postings: 71051\n",
      "Number of fields: 0\n",
      "Number of tokens: 73441\n",
      "Field names: []\n",
      "Positions:   true\n",
      "\n"
     ]
    }
   ],
   "source": [
    "#Positional Indexing\n",
    "index_dir = '../bio_index_positions_final'\n",
    "index_ref = index_dir + '/data.properties'\n",
    "index_pos = pt.IndexFactory.of(index_ref)\n",
    "index = pt.IndexFactory.of(index_ref)\n",
    "print(index.getCollectionStatistics().toString())"
   ]
  },
  {
   "cell_type": "code",
   "execution_count": 16,
   "metadata": {
    "executionInfo": {
     "elapsed": 13,
     "status": "ok",
     "timestamp": 1639360292618,
     "user": {
      "displayName": "Michael Kalmus",
      "photoUrl": "https://lh3.googleusercontent.com/a-/AOh14Gi0ctc0Rmv08ljnJF9_jYxXnpRUmXLNsmVmWJGA=s64",
      "userId": "08396629992174191279"
     },
     "user_tz": 300
    },
    "id": "Po8Acs4Sew4g"
   },
   "outputs": [],
   "source": [
    "bm25 = pt.BatchRetrieve(index, wmodel=\"BM25\") \n",
    "dlh = pt.BatchRetrieve(index, wmodel=\"DLH\")\n",
    "pl2 = pt.BatchRetrieve(index, wmodel=\"PL2\")\n",
    "tfidf = pt.BatchRetrieve(index, wmodel=\"TF_IDF\")"
   ]
  },
  {
   "cell_type": "code",
   "execution_count": 17,
   "metadata": {
    "colab": {
     "base_uri": "https://localhost:8080/",
     "height": 472
    },
    "executionInfo": {
     "elapsed": 1768,
     "status": "ok",
     "timestamp": 1639360294374,
     "user": {
      "displayName": "Michael Kalmus",
      "photoUrl": "https://lh3.googleusercontent.com/a-/AOh14Gi0ctc0Rmv08ljnJF9_jYxXnpRUmXLNsmVmWJGA=s64",
      "userId": "08396629992174191279"
     },
     "user_tz": 300
    },
    "id": "pxVbMH9FknHx",
    "outputId": "da92946e-4ff0-4f66-e8bc-fb4784c0238d"
   },
   "outputs": [],
   "source": [
    "bm25_res = author_df.copy()\n",
    "\n",
    "for i in range(30):\n",
    "    rename_col = f'score_bm25_q{i}'\n",
    "    res = bm25(queries.iloc[[i]]).rename(columns={'score': rename_col})[['docno', rename_col]]\n",
    "    bm25_res = bm25_res.merge(res, how='left', on='docno').fillna(0)"
   ]
  },
  {
   "cell_type": "code",
   "execution_count": 18,
   "metadata": {
    "colab": {
     "base_uri": "https://localhost:8080/",
     "height": 472
    },
    "executionInfo": {
     "elapsed": 1056,
     "status": "ok",
     "timestamp": 1639360295426,
     "user": {
      "displayName": "Michael Kalmus",
      "photoUrl": "https://lh3.googleusercontent.com/a-/AOh14Gi0ctc0Rmv08ljnJF9_jYxXnpRUmXLNsmVmWJGA=s64",
      "userId": "08396629992174191279"
     },
     "user_tz": 300
    },
    "id": "9WajVK_7lv7p",
    "outputId": "a5aa6525-9321-496d-9004-bbb58a91743a"
   },
   "outputs": [],
   "source": [
    "pl2_res = author_df.copy()\n",
    "\n",
    "for i in range(30):\n",
    "    rename_col = f'score_pl2_q{i}'\n",
    "    res = pl2(queries.iloc[[i]]).rename(columns={'score': rename_col})[['docno', rename_col]]\n",
    "    pl2_res = pl2_res.merge(res, how='left', on='docno').fillna(0)"
   ]
  },
  {
   "cell_type": "code",
   "execution_count": 19,
   "metadata": {
    "colab": {
     "base_uri": "https://localhost:8080/",
     "height": 455
    },
    "executionInfo": {
     "elapsed": 263,
     "status": "ok",
     "timestamp": 1639360471949,
     "user": {
      "displayName": "Michael Kalmus",
      "photoUrl": "https://lh3.googleusercontent.com/a-/AOh14Gi0ctc0Rmv08ljnJF9_jYxXnpRUmXLNsmVmWJGA=s64",
      "userId": "08396629992174191279"
     },
     "user_tz": 300
    },
    "id": "gRv-u3twl6Ra",
    "outputId": "3bd1f4cd-ff34-414b-8e6c-3b866ce8bbb0"
   },
   "outputs": [
    {
     "data": {
      "text/html": [
       "<div>\n",
       "<style scoped>\n",
       "    .dataframe tbody tr th:only-of-type {\n",
       "        vertical-align: middle;\n",
       "    }\n",
       "\n",
       "    .dataframe tbody tr th {\n",
       "        vertical-align: top;\n",
       "    }\n",
       "\n",
       "    .dataframe thead th {\n",
       "        text-align: right;\n",
       "    }\n",
       "</style>\n",
       "<table border=\"1\" class=\"dataframe\">\n",
       "  <thead>\n",
       "    <tr style=\"text-align: right;\">\n",
       "      <th></th>\n",
       "      <th>docno_x</th>\n",
       "      <th>handle</th>\n",
       "      <th>author_id</th>\n",
       "      <th>author_bio</th>\n",
       "      <th>name</th>\n",
       "      <th>followers_count_x</th>\n",
       "      <th>following_count_x</th>\n",
       "      <th>bio_cleaned_x</th>\n",
       "      <th>score_bm25_q0</th>\n",
       "      <th>score_bm25_q1</th>\n",
       "      <th>...</th>\n",
       "      <th>score_pl2_q20</th>\n",
       "      <th>score_pl2_q21</th>\n",
       "      <th>score_pl2_q22</th>\n",
       "      <th>score_pl2_q23</th>\n",
       "      <th>score_pl2_q24</th>\n",
       "      <th>score_pl2_q25</th>\n",
       "      <th>score_pl2_q26</th>\n",
       "      <th>score_pl2_q27</th>\n",
       "      <th>score_pl2_q28</th>\n",
       "      <th>score_pl2_q29</th>\n",
       "    </tr>\n",
       "  </thead>\n",
       "  <tbody>\n",
       "    <tr>\n",
       "      <th>440</th>\n",
       "      <td>440</td>\n",
       "      <td>scorpzgca00</td>\n",
       "      <td>1320819567225196544</td>\n",
       "      <td>Digital Entertainment Blog owner | Aspiring pr...</td>\n",
       "      <td>Scorpz 🥷🏿</td>\n",
       "      <td>178</td>\n",
       "      <td>1986.0</td>\n",
       "      <td>Digital Entertainment Blog owner Aspiring prof...</td>\n",
       "      <td>6.080723</td>\n",
       "      <td>0.0</td>\n",
       "      <td>...</td>\n",
       "      <td>0.0</td>\n",
       "      <td>0</td>\n",
       "      <td>0</td>\n",
       "      <td>0.0</td>\n",
       "      <td>0</td>\n",
       "      <td>0.0</td>\n",
       "      <td>0.0</td>\n",
       "      <td>0.0</td>\n",
       "      <td>0.0</td>\n",
       "      <td>3.47444</td>\n",
       "    </tr>\n",
       "    <tr>\n",
       "      <th>5163</th>\n",
       "      <td>5163</td>\n",
       "      <td>cneumeyer</td>\n",
       "      <td>109680858</td>\n",
       "      <td>An IT professional and native of New Orleans.....</td>\n",
       "      <td>Chris Neumeyer</td>\n",
       "      <td>51</td>\n",
       "      <td>217.0</td>\n",
       "      <td>An IT professional and native of New Orleans F...</td>\n",
       "      <td>5.542598</td>\n",
       "      <td>0.0</td>\n",
       "      <td>...</td>\n",
       "      <td>0.0</td>\n",
       "      <td>0</td>\n",
       "      <td>0</td>\n",
       "      <td>0.0</td>\n",
       "      <td>0</td>\n",
       "      <td>0.0</td>\n",
       "      <td>0.0</td>\n",
       "      <td>0.0</td>\n",
       "      <td>0.0</td>\n",
       "      <td>0.00000</td>\n",
       "    </tr>\n",
       "    <tr>\n",
       "      <th>309</th>\n",
       "      <td>309</td>\n",
       "      <td>drunkenpizza69</td>\n",
       "      <td>1324452238077689857</td>\n",
       "      <td>professional heavyweight 🥊. atipid. online,</td>\n",
       "      <td>PIZZAtheMUNT🥊</td>\n",
       "      <td>420</td>\n",
       "      <td>382.0</td>\n",
       "      <td>professional heavyweight atipid online</td>\n",
       "      <td>8.579707</td>\n",
       "      <td>0.0</td>\n",
       "      <td>...</td>\n",
       "      <td>0.0</td>\n",
       "      <td>0</td>\n",
       "      <td>0</td>\n",
       "      <td>0.0</td>\n",
       "      <td>0</td>\n",
       "      <td>0.0</td>\n",
       "      <td>0.0</td>\n",
       "      <td>0.0</td>\n",
       "      <td>0.0</td>\n",
       "      <td>0.00000</td>\n",
       "    </tr>\n",
       "    <tr>\n",
       "      <th>9567</th>\n",
       "      <td>9567</td>\n",
       "      <td>ProEssays247</td>\n",
       "      <td>1339706933792677888</td>\n",
       "      <td>NYT #1 #academic experts.We guarantee professi...</td>\n",
       "      <td>Pro. Essay Writers</td>\n",
       "      <td>2178</td>\n",
       "      <td>2810.0</td>\n",
       "      <td>NYT 1 academic experts We guarantee profession...</td>\n",
       "      <td>5.091974</td>\n",
       "      <td>0.0</td>\n",
       "      <td>...</td>\n",
       "      <td>0.0</td>\n",
       "      <td>0</td>\n",
       "      <td>0</td>\n",
       "      <td>0.0</td>\n",
       "      <td>0</td>\n",
       "      <td>0.0</td>\n",
       "      <td>0.0</td>\n",
       "      <td>0.0</td>\n",
       "      <td>0.0</td>\n",
       "      <td>0.00000</td>\n",
       "    </tr>\n",
       "    <tr>\n",
       "      <th>9998</th>\n",
       "      <td>9998</td>\n",
       "      <td>StephanieCion</td>\n",
       "      <td>3461050821</td>\n",
       "      <td>#Healthcare Strategist. #MedicalMarijuana Advo...</td>\n",
       "      <td>Stephanie Cion</td>\n",
       "      <td>1050</td>\n",
       "      <td>1387.0</td>\n",
       "      <td>Healthcare Strategist MedicalMarijuana Advoca...</td>\n",
       "      <td>8.108544</td>\n",
       "      <td>0.0</td>\n",
       "      <td>...</td>\n",
       "      <td>0.0</td>\n",
       "      <td>0</td>\n",
       "      <td>0</td>\n",
       "      <td>0.0</td>\n",
       "      <td>0</td>\n",
       "      <td>0.0</td>\n",
       "      <td>0.0</td>\n",
       "      <td>0.0</td>\n",
       "      <td>0.0</td>\n",
       "      <td>0.00000</td>\n",
       "    </tr>\n",
       "  </tbody>\n",
       "</table>\n",
       "<p>5 rows × 72 columns</p>\n",
       "</div>"
      ],
      "text/plain": [
       "     docno_x          handle            author_id  \\\n",
       "440      440     scorpzgca00  1320819567225196544   \n",
       "5163    5163       cneumeyer            109680858   \n",
       "309      309  drunkenpizza69  1324452238077689857   \n",
       "9567    9567    ProEssays247  1339706933792677888   \n",
       "9998    9998   StephanieCion           3461050821   \n",
       "\n",
       "                                             author_bio                name  \\\n",
       "440   Digital Entertainment Blog owner | Aspiring pr...           Scorpz 🥷🏿   \n",
       "5163  An IT professional and native of New Orleans.....      Chris Neumeyer   \n",
       "309         professional heavyweight 🥊. atipid. online,       PIZZAtheMUNT🥊   \n",
       "9567  NYT #1 #academic experts.We guarantee professi...  Pro. Essay Writers   \n",
       "9998  #Healthcare Strategist. #MedicalMarijuana Advo...      Stephanie Cion   \n",
       "\n",
       "      followers_count_x  following_count_x  \\\n",
       "440                 178             1986.0   \n",
       "5163                 51              217.0   \n",
       "309                 420              382.0   \n",
       "9567               2178             2810.0   \n",
       "9998               1050             1387.0   \n",
       "\n",
       "                                          bio_cleaned_x  score_bm25_q0  \\\n",
       "440   Digital Entertainment Blog owner Aspiring prof...       6.080723   \n",
       "5163  An IT professional and native of New Orleans F...       5.542598   \n",
       "309             professional heavyweight atipid online        8.579707   \n",
       "9567  NYT 1 academic experts We guarantee profession...       5.091974   \n",
       "9998   Healthcare Strategist MedicalMarijuana Advoca...       8.108544   \n",
       "\n",
       "      score_bm25_q1  ...  score_pl2_q20  score_pl2_q21  score_pl2_q22  \\\n",
       "440             0.0  ...            0.0              0              0   \n",
       "5163            0.0  ...            0.0              0              0   \n",
       "309             0.0  ...            0.0              0              0   \n",
       "9567            0.0  ...            0.0              0              0   \n",
       "9998            0.0  ...            0.0              0              0   \n",
       "\n",
       "      score_pl2_q23  score_pl2_q24  score_pl2_q25  score_pl2_q26  \\\n",
       "440             0.0              0            0.0            0.0   \n",
       "5163            0.0              0            0.0            0.0   \n",
       "309             0.0              0            0.0            0.0   \n",
       "9567            0.0              0            0.0            0.0   \n",
       "9998            0.0              0            0.0            0.0   \n",
       "\n",
       "      score_pl2_q27  score_pl2_q28  score_pl2_q29  \n",
       "440             0.0            0.0        3.47444  \n",
       "5163            0.0            0.0        0.00000  \n",
       "309             0.0            0.0        0.00000  \n",
       "9567            0.0            0.0        0.00000  \n",
       "9998            0.0            0.0        0.00000  \n",
       "\n",
       "[5 rows x 72 columns]"
      ]
     },
     "execution_count": 19,
     "metadata": {},
     "output_type": "execute_result"
    }
   ],
   "source": [
    "final_res = bm25_res.merge(pl2_res, on=['author_id', 'name', 'handle', 'author_bio'], how=\"left\")\n",
    "final_res[final_res['score_bm25_q0'] > 0].sample(5)"
   ]
  },
  {
   "cell_type": "code",
   "execution_count": 20,
   "metadata": {
    "id": "sYRttJxQl6S5"
   },
   "outputs": [],
   "source": [
    "for i in range(0,30):\n",
    "    n_query = f'q{i}'\n",
    "    cols_to_pull = ['author_id', 'name', 'handle', 'author_bio'] + [col for col in final_res.columns if n_query in col]\n",
    "#     final_res[cols_to_pull].to_csv('../results_for_annotation/' + n_query + '_results.csv')"
   ]
  },
  {
   "cell_type": "code",
   "execution_count": null,
   "metadata": {},
   "outputs": [],
   "source": []
  }
 ],
 "metadata": {
  "colab": {
   "collapsed_sections": [],
   "name": "03_bio_ranking_for_annotation.ipynb",
   "provenance": []
  },
  "kernelspec": {
   "display_name": "Python 3 (ipykernel)",
   "language": "python",
   "name": "python3"
  },
  "language_info": {
   "codemirror_mode": {
    "name": "ipython",
    "version": 3
   },
   "file_extension": ".py",
   "mimetype": "text/x-python",
   "name": "python",
   "nbconvert_exporter": "python",
   "pygments_lexer": "ipython3",
   "version": "3.7.11"
  },
  "widgets": {
   "application/vnd.jupyter.widget-state+json": {
    "1724fb503b2f485bb3ecc557d488e39c": {
     "model_module": "@jupyter-widgets/controls",
     "model_module_version": "1.5.0",
     "model_name": "DescriptionStyleModel",
     "state": {
      "_model_module": "@jupyter-widgets/controls",
      "_model_module_version": "1.5.0",
      "_model_name": "DescriptionStyleModel",
      "_view_count": null,
      "_view_module": "@jupyter-widgets/base",
      "_view_module_version": "1.2.0",
      "_view_name": "StyleView",
      "description_width": ""
     }
    },
    "4f283d4c90a246b4928108aca38b3805": {
     "model_module": "@jupyter-widgets/controls",
     "model_module_version": "1.5.0",
     "model_name": "FloatProgressModel",
     "state": {
      "_dom_classes": [],
      "_model_module": "@jupyter-widgets/controls",
      "_model_module_version": "1.5.0",
      "_model_name": "FloatProgressModel",
      "_view_count": null,
      "_view_module": "@jupyter-widgets/controls",
      "_view_module_version": "1.5.0",
      "_view_name": "ProgressView",
      "bar_style": "success",
      "description": "",
      "description_tooltip": null,
      "layout": "IPY_MODEL_bf678f6e2a084fdfa1a44bdfc69e56ab",
      "max": 10008,
      "min": 0,
      "orientation": "horizontal",
      "style": "IPY_MODEL_a6a9dba117604630b1ce25910e78c64d",
      "value": 10008
     }
    },
    "8fa77494d3f5423caea6ec390f1b1660": {
     "model_module": "@jupyter-widgets/base",
     "model_module_version": "1.2.0",
     "model_name": "LayoutModel",
     "state": {
      "_model_module": "@jupyter-widgets/base",
      "_model_module_version": "1.2.0",
      "_model_name": "LayoutModel",
      "_view_count": null,
      "_view_module": "@jupyter-widgets/base",
      "_view_module_version": "1.2.0",
      "_view_name": "LayoutView",
      "align_content": null,
      "align_items": null,
      "align_self": null,
      "border": null,
      "bottom": null,
      "display": null,
      "flex": null,
      "flex_flow": null,
      "grid_area": null,
      "grid_auto_columns": null,
      "grid_auto_flow": null,
      "grid_auto_rows": null,
      "grid_column": null,
      "grid_gap": null,
      "grid_row": null,
      "grid_template_areas": null,
      "grid_template_columns": null,
      "grid_template_rows": null,
      "height": null,
      "justify_content": null,
      "justify_items": null,
      "left": null,
      "margin": null,
      "max_height": null,
      "max_width": null,
      "min_height": null,
      "min_width": null,
      "object_fit": null,
      "object_position": null,
      "order": null,
      "overflow": null,
      "overflow_x": null,
      "overflow_y": null,
      "padding": null,
      "right": null,
      "top": null,
      "visibility": null,
      "width": null
     }
    },
    "990ea6471586400e8e37848dd9394a5b": {
     "model_module": "@jupyter-widgets/controls",
     "model_module_version": "1.5.0",
     "model_name": "HBoxModel",
     "state": {
      "_dom_classes": [],
      "_model_module": "@jupyter-widgets/controls",
      "_model_module_version": "1.5.0",
      "_model_name": "HBoxModel",
      "_view_count": null,
      "_view_module": "@jupyter-widgets/controls",
      "_view_module_version": "1.5.0",
      "_view_name": "HBoxView",
      "box_style": "",
      "children": [
       "IPY_MODEL_d0c075fdf245449398ba2d50b01420b8",
       "IPY_MODEL_4f283d4c90a246b4928108aca38b3805",
       "IPY_MODEL_9b32461799964a9984f42a937ed44540"
      ],
      "layout": "IPY_MODEL_af9d20162eee4bdfa0d9da169a6cb7d5"
     }
    },
    "9b32461799964a9984f42a937ed44540": {
     "model_module": "@jupyter-widgets/controls",
     "model_module_version": "1.5.0",
     "model_name": "HTMLModel",
     "state": {
      "_dom_classes": [],
      "_model_module": "@jupyter-widgets/controls",
      "_model_module_version": "1.5.0",
      "_model_name": "HTMLModel",
      "_view_count": null,
      "_view_module": "@jupyter-widgets/controls",
      "_view_module_version": "1.5.0",
      "_view_name": "HTMLView",
      "description": "",
      "description_tooltip": null,
      "layout": "IPY_MODEL_b1289c78bef443078b2b61ed6309a998",
      "placeholder": "​",
      "style": "IPY_MODEL_1724fb503b2f485bb3ecc557d488e39c",
      "value": " 10009/? [00:11&lt;00:00, 1190.72documents/s]"
     }
    },
    "a6a9dba117604630b1ce25910e78c64d": {
     "model_module": "@jupyter-widgets/controls",
     "model_module_version": "1.5.0",
     "model_name": "ProgressStyleModel",
     "state": {
      "_model_module": "@jupyter-widgets/controls",
      "_model_module_version": "1.5.0",
      "_model_name": "ProgressStyleModel",
      "_view_count": null,
      "_view_module": "@jupyter-widgets/base",
      "_view_module_version": "1.2.0",
      "_view_name": "StyleView",
      "bar_color": null,
      "description_width": ""
     }
    },
    "af9d20162eee4bdfa0d9da169a6cb7d5": {
     "model_module": "@jupyter-widgets/base",
     "model_module_version": "1.2.0",
     "model_name": "LayoutModel",
     "state": {
      "_model_module": "@jupyter-widgets/base",
      "_model_module_version": "1.2.0",
      "_model_name": "LayoutModel",
      "_view_count": null,
      "_view_module": "@jupyter-widgets/base",
      "_view_module_version": "1.2.0",
      "_view_name": "LayoutView",
      "align_content": null,
      "align_items": null,
      "align_self": null,
      "border": null,
      "bottom": null,
      "display": null,
      "flex": null,
      "flex_flow": null,
      "grid_area": null,
      "grid_auto_columns": null,
      "grid_auto_flow": null,
      "grid_auto_rows": null,
      "grid_column": null,
      "grid_gap": null,
      "grid_row": null,
      "grid_template_areas": null,
      "grid_template_columns": null,
      "grid_template_rows": null,
      "height": null,
      "justify_content": null,
      "justify_items": null,
      "left": null,
      "margin": null,
      "max_height": null,
      "max_width": null,
      "min_height": null,
      "min_width": null,
      "object_fit": null,
      "object_position": null,
      "order": null,
      "overflow": null,
      "overflow_x": null,
      "overflow_y": null,
      "padding": null,
      "right": null,
      "top": null,
      "visibility": null,
      "width": null
     }
    },
    "b1289c78bef443078b2b61ed6309a998": {
     "model_module": "@jupyter-widgets/base",
     "model_module_version": "1.2.0",
     "model_name": "LayoutModel",
     "state": {
      "_model_module": "@jupyter-widgets/base",
      "_model_module_version": "1.2.0",
      "_model_name": "LayoutModel",
      "_view_count": null,
      "_view_module": "@jupyter-widgets/base",
      "_view_module_version": "1.2.0",
      "_view_name": "LayoutView",
      "align_content": null,
      "align_items": null,
      "align_self": null,
      "border": null,
      "bottom": null,
      "display": null,
      "flex": null,
      "flex_flow": null,
      "grid_area": null,
      "grid_auto_columns": null,
      "grid_auto_flow": null,
      "grid_auto_rows": null,
      "grid_column": null,
      "grid_gap": null,
      "grid_row": null,
      "grid_template_areas": null,
      "grid_template_columns": null,
      "grid_template_rows": null,
      "height": null,
      "justify_content": null,
      "justify_items": null,
      "left": null,
      "margin": null,
      "max_height": null,
      "max_width": null,
      "min_height": null,
      "min_width": null,
      "object_fit": null,
      "object_position": null,
      "order": null,
      "overflow": null,
      "overflow_x": null,
      "overflow_y": null,
      "padding": null,
      "right": null,
      "top": null,
      "visibility": null,
      "width": null
     }
    },
    "bf678f6e2a084fdfa1a44bdfc69e56ab": {
     "model_module": "@jupyter-widgets/base",
     "model_module_version": "1.2.0",
     "model_name": "LayoutModel",
     "state": {
      "_model_module": "@jupyter-widgets/base",
      "_model_module_version": "1.2.0",
      "_model_name": "LayoutModel",
      "_view_count": null,
      "_view_module": "@jupyter-widgets/base",
      "_view_module_version": "1.2.0",
      "_view_name": "LayoutView",
      "align_content": null,
      "align_items": null,
      "align_self": null,
      "border": null,
      "bottom": null,
      "display": null,
      "flex": null,
      "flex_flow": null,
      "grid_area": null,
      "grid_auto_columns": null,
      "grid_auto_flow": null,
      "grid_auto_rows": null,
      "grid_column": null,
      "grid_gap": null,
      "grid_row": null,
      "grid_template_areas": null,
      "grid_template_columns": null,
      "grid_template_rows": null,
      "height": null,
      "justify_content": null,
      "justify_items": null,
      "left": null,
      "margin": null,
      "max_height": null,
      "max_width": null,
      "min_height": null,
      "min_width": null,
      "object_fit": null,
      "object_position": null,
      "order": null,
      "overflow": null,
      "overflow_x": null,
      "overflow_y": null,
      "padding": null,
      "right": null,
      "top": null,
      "visibility": null,
      "width": null
     }
    },
    "d0c075fdf245449398ba2d50b01420b8": {
     "model_module": "@jupyter-widgets/controls",
     "model_module_version": "1.5.0",
     "model_name": "HTMLModel",
     "state": {
      "_dom_classes": [],
      "_model_module": "@jupyter-widgets/controls",
      "_model_module_version": "1.5.0",
      "_model_name": "HTMLModel",
      "_view_count": null,
      "_view_module": "@jupyter-widgets/controls",
      "_view_module_version": "1.5.0",
      "_view_name": "HTMLView",
      "description": "",
      "description_tooltip": null,
      "layout": "IPY_MODEL_8fa77494d3f5423caea6ec390f1b1660",
      "placeholder": "​",
      "style": "IPY_MODEL_de804cf17a9b40b68d4ef12c5eb89064",
      "value": ""
     }
    },
    "de804cf17a9b40b68d4ef12c5eb89064": {
     "model_module": "@jupyter-widgets/controls",
     "model_module_version": "1.5.0",
     "model_name": "DescriptionStyleModel",
     "state": {
      "_model_module": "@jupyter-widgets/controls",
      "_model_module_version": "1.5.0",
      "_model_name": "DescriptionStyleModel",
      "_view_count": null,
      "_view_module": "@jupyter-widgets/base",
      "_view_module_version": "1.2.0",
      "_view_name": "StyleView",
      "description_width": ""
     }
    }
   }
  }
 },
 "nbformat": 4,
 "nbformat_minor": 1
}
