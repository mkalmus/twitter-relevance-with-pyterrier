{
 "cells": [
  {
   "cell_type": "markdown",
   "metadata": {
    "id": "0wdljQ8nFvke"
   },
   "source": [
    "# Notebook 2: Indexing\n",
    "This notebook builds the indices that are later used within PyTerrier"
   ]
  },
  {
   "cell_type": "code",
   "execution_count": null,
   "metadata": {
    "colab": {
     "base_uri": "https://localhost:8080/"
    },
    "executionInfo": {
     "elapsed": 19562,
     "status": "ok",
     "timestamp": 1639370238088,
     "user": {
      "displayName": "Michael Kalmus",
      "photoUrl": "https://lh3.googleusercontent.com/a-/AOh14Gi0ctc0Rmv08ljnJF9_jYxXnpRUmXLNsmVmWJGA=s64",
      "userId": "08396629992174191279"
     },
     "user_tz": 300
    },
    "id": "9E-LzM4f3ncU",
    "outputId": "c7c7795e-cde4-430b-c38c-e96d502a914a"
   },
   "outputs": [],
   "source": [
    "# pip install python-terrier"
   ]
  },
  {
   "cell_type": "code",
   "execution_count": 3,
   "metadata": {
    "colab": {
     "base_uri": "https://localhost:8080/"
    },
    "executionInfo": {
     "elapsed": 2455,
     "status": "ok",
     "timestamp": 1639370261091,
     "user": {
      "displayName": "Michael Kalmus",
      "photoUrl": "https://lh3.googleusercontent.com/a-/AOh14Gi0ctc0Rmv08ljnJF9_jYxXnpRUmXLNsmVmWJGA=s64",
      "userId": "08396629992174191279"
     },
     "user_tz": 300
    },
    "id": "rUhOOvoRz0Vt",
    "outputId": "d695ddfc-3bb9-4b7d-9ade-fb9177a36e1f"
   },
   "outputs": [
    {
     "name": "stdout",
     "output_type": "stream",
     "text": [
      "PyTerrier 0.7.1 has loaded Terrier 5.6 (built by craigmacdonald on 2021-09-17 13:27)\n"
     ]
    },
    {
     "name": "stderr",
     "output_type": "stream",
     "text": [
      "No etc/terrier.properties, using terrier.default.properties for bootstrap configuration.\n"
     ]
    }
   ],
   "source": [
    "import pandas as pd\n",
    "import re\n",
    "pd.set_option('display.max_colwidth', 150)\n",
    "import pyterrier as pt\n",
    "import numpy as np\n",
    "if not pt.started():\n",
    "    pt.init()"
   ]
  },
  {
   "cell_type": "code",
   "execution_count": 4,
   "metadata": {
    "executionInfo": {
     "elapsed": 6,
     "status": "ok",
     "timestamp": 1639370261092,
     "user": {
      "displayName": "Michael Kalmus",
      "photoUrl": "https://lh3.googleusercontent.com/a-/AOh14Gi0ctc0Rmv08ljnJF9_jYxXnpRUmXLNsmVmWJGA=s64",
      "userId": "08396629992174191279"
     },
     "user_tz": 300
    },
    "id": "18eKiRheznhI"
   },
   "outputs": [],
   "source": [
    "TWEET_DF_PATH = data_path + './all_tweets_updated.csv'\n",
    "AUTHOR_DF_PATH = data_path + './all_authors_updated.csv'"
   ]
  },
  {
   "cell_type": "code",
   "execution_count": 5,
   "metadata": {
    "executionInfo": {
     "elapsed": 6,
     "status": "ok",
     "timestamp": 1639370261093,
     "user": {
      "displayName": "Michael Kalmus",
      "photoUrl": "https://lh3.googleusercontent.com/a-/AOh14Gi0ctc0Rmv08ljnJF9_jYxXnpRUmXLNsmVmWJGA=s64",
      "userId": "08396629992174191279"
     },
     "user_tz": 300
    },
    "id": "6eXrUrLuq9zU"
   },
   "outputs": [],
   "source": [
    "def clean_text(text):\n",
    "    try:\n",
    "        bio_alphanumeric = re.sub(r'[^a-zA-Z0-9]', ' ', text)\n",
    "        clean_bio = re.sub(\"\\s\\s+\" , \" \", bio_alphanumeric)\n",
    "        return clean_bio\n",
    "    except:\n",
    "        return None"
   ]
  },
  {
   "cell_type": "code",
   "execution_count": 6,
   "metadata": {
    "executionInfo": {
     "elapsed": 3599,
     "status": "ok",
     "timestamp": 1639370264687,
     "user": {
      "displayName": "Michael Kalmus",
      "photoUrl": "https://lh3.googleusercontent.com/a-/AOh14Gi0ctc0Rmv08ljnJF9_jYxXnpRUmXLNsmVmWJGA=s64",
      "userId": "08396629992174191279"
     },
     "user_tz": 300
    },
    "id": "Wh43qDO21Lzu"
   },
   "outputs": [],
   "source": [
    "tweet_df = pd.read_csv(TWEET_DF_PATH, lineterminator='\\n').drop('Unnamed: 0', axis=1).reset_index(drop=False).rename(columns={'index': 'docno'})\n",
    "author_df = pd.read_csv(AUTHOR_DF_PATH, lineterminator='\\n').drop('Unnamed: 0', axis=1).reset_index(drop=True)\n",
    "\n",
    "#clean tweets and bios\n",
    "tweet_df['text_clean'] = tweet_df['text'].apply(clean_text)\n",
    "author_df['bio_cleaned'] = author_df['author_bio'].apply(clean_text)\n",
    "\n",
    "#prepare tweets for indexing\n",
    "tweet_df[\"docno\"] = tweet_df[\"docno\"].apply(str)\n",
    "tweet_df_index = tweet_df[['docno', 'text_clean']].copy().rename(columns={'text_clean': 'text'})\n",
    "\n",
    "#prepare author data for indexing\n",
    "author_df_index = author_df[['author_id', 'bio_cleaned']].copy().rename(columns={'bio_cleaned': 'text', 'author_id':'docno'})\n",
    "author_df_index['docno'] = author_df_index['docno'].astype(str)"
   ]
  },
  {
   "cell_type": "code",
   "execution_count": 7,
   "metadata": {
    "colab": {
     "base_uri": "https://localhost:8080/"
    },
    "executionInfo": {
     "elapsed": 96552,
     "status": "ok",
     "timestamp": 1639370361226,
     "user": {
      "displayName": "Michael Kalmus",
      "photoUrl": "https://lh3.googleusercontent.com/a-/AOh14Gi0ctc0Rmv08ljnJF9_jYxXnpRUmXLNsmVmWJGA=s64",
      "userId": "08396629992174191279"
     },
     "user_tz": 300
    },
    "id": "hj5el1q25Qkr",
    "outputId": "1915cf5d-1d53-420b-ff84-6bd1369faaf0"
   },
   "outputs": [
    {
     "name": "stdout",
     "output_type": "stream",
     "text": [
      "04:37:47.173 [main] WARN org.terrier.structures.indexing.Indexer - Adding an empty document to the index (900) - further warnings are suppressed\n",
      "04:39:17.099 [main] WARN org.terrier.structures.indexing.Indexer - Indexed 477 empty documents\n",
      "Number of documents: 163946\n",
      "Number of terms: 100946\n",
      "Number of postings: 1470196\n",
      "Number of fields: 0\n",
      "Number of tokens: 1553355\n",
      "Field names: []\n",
      "Positions:   false\n",
      "\n"
     ]
    }
   ],
   "source": [
    "#TWEET INDEXING\n",
    "index_dir = '/content/drive/Shareddrives/actual_650_project/indices/tweet_index_final'\n",
    "indexer = pt.DFIndexer(index_dir, overwrite=True)\n",
    "index_ref = indexer.index(tweet_df_index[\"text\"], tweet_df_index[\"docno\"])\n",
    "index = pt.IndexFactory.of(index_ref)\n",
    "print(index.getCollectionStatistics().toString())"
   ]
  },
  {
   "cell_type": "code",
   "execution_count": 8,
   "metadata": {
    "colab": {
     "base_uri": "https://localhost:8080/"
    },
    "executionInfo": {
     "elapsed": 7953,
     "status": "ok",
     "timestamp": 1639370369175,
     "user": {
      "displayName": "Michael Kalmus",
      "photoUrl": "https://lh3.googleusercontent.com/a-/AOh14Gi0ctc0Rmv08ljnJF9_jYxXnpRUmXLNsmVmWJGA=s64",
      "userId": "08396629992174191279"
     },
     "user_tz": 300
    },
    "id": "ifASDrLtvVea",
    "outputId": "6b5d6174-a684-419a-823b-8b49eba81be9"
   },
   "outputs": [
    {
     "name": "stdout",
     "output_type": "stream",
     "text": [
      "04:39:21.700 [main] WARN org.terrier.structures.indexing.Indexer - Adding an empty document to the index (2240017881) - further warnings are suppressed\n",
      "04:39:27.843 [main] WARN org.terrier.structures.indexing.Indexer - Indexed 1167 empty documents\n",
      "Number of documents: 9411\n",
      "Number of terms: 18721\n",
      "Number of postings: 67194\n",
      "Number of fields: 0\n",
      "Number of tokens: 69443\n",
      "Field names: []\n",
      "Positions:   true\n",
      "\n"
     ]
    }
   ],
   "source": [
    "#BIO INDEXING (Positional)\n",
    "index_dir = '/content/drive/Shareddrives/actual_650_project/indices/bio_index_positions_final'\n",
    "indexer = pt.DFIndexer(index_dir, overwrite=True, blocks=True)\n",
    "index_ref = indexer.index(author_df_index[\"text\"], author_df_index[\"docno\"])\n",
    "index = pt.IndexFactory.of(index_ref)\n",
    "print(index.getCollectionStatistics().toString())"
   ]
  },
  {
   "cell_type": "code",
   "execution_count": 9,
   "metadata": {
    "colab": {
     "base_uri": "https://localhost:8080/"
    },
    "executionInfo": {
     "elapsed": 8390,
     "status": "ok",
     "timestamp": 1639370377561,
     "user": {
      "displayName": "Michael Kalmus",
      "photoUrl": "https://lh3.googleusercontent.com/a-/AOh14Gi0ctc0Rmv08ljnJF9_jYxXnpRUmXLNsmVmWJGA=s64",
      "userId": "08396629992174191279"
     },
     "user_tz": 300
    },
    "id": "o91VGzXpv6OC",
    "outputId": "97b18caf-b171-47f6-9d0c-8bc38bb32828"
   },
   "outputs": [
    {
     "name": "stdout",
     "output_type": "stream",
     "text": [
      "04:39:29.731 [main] WARN org.terrier.structures.indexing.Indexer - Adding an empty document to the index (2240017881) - further warnings are suppressed\n",
      "04:39:36.173 [main] WARN org.terrier.structures.indexing.Indexer - Indexed 1167 empty documents\n",
      "Number of documents: 9411\n",
      "Number of terms: 18721\n",
      "Number of postings: 67194\n",
      "Number of fields: 0\n",
      "Number of tokens: 69443\n",
      "Field names: []\n",
      "Positions:   false\n",
      "\n"
     ]
    }
   ],
   "source": [
    "#BIO INDEXING (Non-Positional)\n",
    "index_dir = '/content/drive/Shareddrives/actual_650_project/indices/bio_index_nopositions_final'\n",
    "indexer = pt.DFIndexer(index_dir, overwrite=True, blocks=False)\n",
    "index_ref = indexer.index(author_df_index[\"text\"], author_df_index[\"docno\"])\n",
    "index = pt.IndexFactory.of(index_ref)\n",
    "print(index.getCollectionStatistics().toString())"
   ]
  },
  {
   "cell_type": "code",
   "execution_count": null,
   "metadata": {
    "id": "lqgeA7ZmQEL7"
   },
   "outputs": [],
   "source": []
  }
 ],
 "metadata": {
  "colab": {
   "collapsed_sections": [],
   "name": "02_indexing.ipynb",
   "provenance": []
  },
  "kernelspec": {
   "display_name": "Python 3 (ipykernel)",
   "language": "python",
   "name": "python3"
  },
  "language_info": {
   "codemirror_mode": {
    "name": "ipython",
    "version": 3
   },
   "file_extension": ".py",
   "mimetype": "text/x-python",
   "name": "python",
   "nbconvert_exporter": "python",
   "pygments_lexer": "ipython3",
   "version": "3.7.11"
  }
 },
 "nbformat": 4,
 "nbformat_minor": 1
}
