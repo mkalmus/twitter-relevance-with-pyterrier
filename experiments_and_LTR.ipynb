{
 "cells": [
  {
   "cell_type": "markdown",
   "metadata": {
    "id": "QiYacwzt8AQg"
   },
   "source": [
    "# Notebook 04: Experiments and Learning to Rank\n",
    "This notebook covers the experiments implemented with PyTerrier to recreate the results seen in the paper. \n",
    "\n",
    "**The bottom of the notebook contains a way for you to test the LTR models**"
   ]
  },
  {
   "cell_type": "code",
   "execution_count": 15,
   "metadata": {
    "id": "siFYqf_BLrIO"
   },
   "outputs": [],
   "source": [
    "# pip install python-terrier lightgbm==3.1.1 seaborn"
   ]
  },
  {
   "cell_type": "code",
   "execution_count": 1,
   "metadata": {
    "colab": {
     "base_uri": "https://localhost:8080/"
    },
    "executionInfo": {
     "elapsed": 3559,
     "status": "ok",
     "timestamp": 1639364937682,
     "user": {
      "displayName": "Michael Kalmus",
      "photoUrl": "https://lh3.googleusercontent.com/a-/AOh14Gi0ctc0Rmv08ljnJF9_jYxXnpRUmXLNsmVmWJGA=s64",
      "userId": "08396629992174191279"
     },
     "user_tz": 300
    },
    "id": "8_XWtG_bL-rw",
    "outputId": "a14ac880-5e08-4636-b89b-ba8df42b0b29"
   },
   "outputs": [
    {
     "name": "stdout",
     "output_type": "stream",
     "text": [
      "PyTerrier 0.7.1 has loaded Terrier 5.6 (built by craigmacdonald on 2021-09-17 13:27)\n"
     ]
    },
    {
     "name": "stderr",
     "output_type": "stream",
     "text": [
      "No etc/terrier.properties, using terrier.default.properties for bootstrap configuration.\n"
     ]
    }
   ],
   "source": [
    "import pyterrier as pt\n",
    "import os\n",
    "import pandas as pd\n",
    "import random\n",
    "from sklearn.model_selection import train_test_split\n",
    "from sklearn.ensemble import RandomForestRegressor\n",
    "import lightgbm as lgb\n",
    "import numpy as np\n",
    "\n",
    "import seaborn as sns\n",
    "sns.set_theme(style=\"darkgrid\")\n",
    "\n",
    "if not pt.started():\n",
    "    pt.init()"
   ]
  },
  {
   "cell_type": "code",
   "execution_count": 2,
   "metadata": {
    "colab": {
     "base_uri": "https://localhost:8080/"
    },
    "executionInfo": {
     "elapsed": 3729,
     "status": "ok",
     "timestamp": 1639364960396,
     "user": {
      "displayName": "Michael Kalmus",
      "photoUrl": "https://lh3.googleusercontent.com/a-/AOh14Gi0ctc0Rmv08ljnJF9_jYxXnpRUmXLNsmVmWJGA=s64",
      "userId": "08396629992174191279"
     },
     "user_tz": 300
    },
    "id": "ne_8PKDvd_Vn",
    "outputId": "df8e4b67-c96f-48dd-8cbb-1a65dc0ce0df"
   },
   "outputs": [
    {
     "name": "stdout",
     "output_type": "stream",
     "text": [
      "Number of documents: 10008\n",
      "Number of terms: 19591\n",
      "Number of postings: 71051\n",
      "Number of fields: 0\n",
      "Number of tokens: 73441\n",
      "Field names: []\n",
      "Positions:   true\n",
      "\n"
     ]
    }
   ],
   "source": [
    "index_dir = './bio_index_positions_final'\n",
    "index_ref = index_dir + '/data.properties'\n",
    "index_pos = pt.IndexFactory.of(index_ref)\n",
    "print(index_pos.getCollectionStatistics().toString())"
   ]
  },
  {
   "cell_type": "code",
   "execution_count": 3,
   "metadata": {
    "executionInfo": {
     "elapsed": 4,
     "status": "ok",
     "timestamp": 1639364960396,
     "user": {
      "displayName": "Michael Kalmus",
      "photoUrl": "https://lh3.googleusercontent.com/a-/AOh14Gi0ctc0Rmv08ljnJF9_jYxXnpRUmXLNsmVmWJGA=s64",
      "userId": "08396629992174191279"
     },
     "user_tz": 300
    },
    "id": "n0kbzb14SMQ6"
   },
   "outputs": [],
   "source": [
    "#Left out 3 queries due to issues with annotation files\n",
    "queries = pd.DataFrame([[\"0\", \"healthcare professional\"], \n",
    "                        [\"1\", \"baseball analyst\"],\n",
    "                        [\"2\", \"talk show host\"],\n",
    "                        [\"3\", \"mechanical engineer\"],\n",
    "                        [\"4\", \"neurosurgeon\"],\n",
    "                        [\"5\", \"movie director\"],\n",
    "                        [\"6\", \"accountant\"],\n",
    "                        [\"7\", \"social media influencer\"],\n",
    "                        [\"8\", \"lawyer\"],\n",
    "                        [\"9\", \"coffee barista\"],\n",
    "                        [\"10\", \"industrial engineer\"],\n",
    "                        [\"11\", \"statistician\"],\n",
    "                        [\"12\", \"data scientist\"],\n",
    "                        [\"13\", \"cryptocurrency investor\"],\n",
    "                        [\"14\", \"investment banker\"],\n",
    "                        [\"15\", \"olympian\"],\n",
    "                        [\"16\", \"software engineer\"],\n",
    "                        #[\"17\", \"NLP expert\"],\n",
    "                        #[\"18\", \"NFT investor\"],\n",
    "                        # [\"19\", \"marine biologist\"],\n",
    "                        [\"20\", \"doctor\"], \n",
    "                        [\"21\", \"stockbroker\"],\n",
    "                        [\"22\", \"veterinarian\"],\n",
    "                        [\"23\", \"dentist\"],\n",
    "                        [\"24\", \"receptionist\"],\n",
    "                        [\"25\", \"pharmacist\"],\n",
    "                        [\"26\", \"teacher\"],\n",
    "                        [\"27\", \"architect\"],\n",
    "                        [\"28\", \"police officer\"],\n",
    "                        [\"29\", \"technology CEO\"]],\n",
    "                       columns=[\"qid\", \"query\"])"
   ]
  },
  {
   "cell_type": "code",
   "execution_count": 4,
   "metadata": {
    "executionInfo": {
     "elapsed": 672,
     "status": "ok",
     "timestamp": 1639364962314,
     "user": {
      "displayName": "Michael Kalmus",
      "photoUrl": "https://lh3.googleusercontent.com/a-/AOh14Gi0ctc0Rmv08ljnJF9_jYxXnpRUmXLNsmVmWJGA=s64",
      "userId": "08396629992174191279"
     },
     "user_tz": 300
    },
    "id": "a_SfGpY7taR-"
   },
   "outputs": [],
   "source": [
    "author_df = pd.read_csv('./all_author_df.csv')\n",
    "author_df = author_df.drop('Unnamed: 0', axis=1).reset_index().rename(columns={'index': 'docno'})\n",
    "author_df['docno'] = author_df['docno'].astype(str)\n",
    "author_merge = author_df[['author_id', 'handle', 'name']]"
   ]
  },
  {
   "cell_type": "code",
   "execution_count": 6,
   "metadata": {
    "executionInfo": {
     "elapsed": 16805,
     "status": "ok",
     "timestamp": 1639364979275,
     "user": {
      "displayName": "Michael Kalmus",
      "photoUrl": "https://lh3.googleusercontent.com/a-/AOh14Gi0ctc0Rmv08ljnJF9_jYxXnpRUmXLNsmVmWJGA=s64",
      "userId": "08396629992174191279"
     },
     "user_tz": 300
    },
    "id": "X6xcoYbVWwJt"
   },
   "outputs": [],
   "source": [
    "def create_load_qrels(query_df):\n",
    "    if './qrels.csv':\n",
    "        print('loading qrels.csv')\n",
    "        qrels = pd.read_csv('./qrels.csv').drop('Unnamed: 0', axis=1)\n",
    "    else:\n",
    "        print('Creating qrels')\n",
    "        qids = list(queries['qid'])\n",
    "        query_list = list(queries['query'])\n",
    "        filenames = sorted(os.listdir(annotation_path))\n",
    "        qids = list(queries['qid'])\n",
    "        query_list = list(queries['query'])\n",
    "        qrels = pd.DataFrame(columns = [\"qid\", \"docno\", \"label\"])\n",
    "        for qid, query, file_n in zip(qids, query_list, filenames):\n",
    "            file_path = annotation_path + '/' + file_n\n",
    "            df = pd.read_csv(file_path).dropna()\n",
    "            df = df.rename(columns={df.columns[0]: 'docno'})\n",
    "            df['docno'] = df['docno'].astype(str)\n",
    "            df['label'] = df['label'].astype(int)\n",
    "            score_col = [x for x in df.columns if 'score_bm25' in x][0]\n",
    "            out = df[['docno', 'label', score_col]].copy()\n",
    "            out.loc[:, 'qid'] = qid\n",
    "            out.loc[:, 'query'] = query\n",
    "\n",
    "            out = out[['qid', 'docno', 'label']]\n",
    "            out.columns = [\"qid\", \"docno\", \"label\"]\n",
    "            qrels = qrels.append(out)\n",
    "\n",
    "    qrels['label'] = qrels['label'].astype(int)\n",
    "    qrels['qid'] = qrels['qid'].astype(str)\n",
    "    qrels['docno'] = qrels['docno'].astype(str)\n",
    "\n",
    "    return qrels"
   ]
  },
  {
   "cell_type": "code",
   "execution_count": 7,
   "metadata": {},
   "outputs": [
    {
     "name": "stdout",
     "output_type": "stream",
     "text": [
      "loading qrels.csv\n"
     ]
    }
   ],
   "source": [
    "qrels = create_load_qrels(queries)"
   ]
  },
  {
   "cell_type": "code",
   "execution_count": 8,
   "metadata": {
    "colab": {
     "base_uri": "https://localhost:8080/",
     "height": 357
    },
    "executionInfo": {
     "elapsed": 154,
     "status": "ok",
     "timestamp": 1639364979416,
     "user": {
      "displayName": "Michael Kalmus",
      "photoUrl": "https://lh3.googleusercontent.com/a-/AOh14Gi0ctc0Rmv08ljnJF9_jYxXnpRUmXLNsmVmWJGA=s64",
      "userId": "08396629992174191279"
     },
     "user_tz": 300
    },
    "id": "HuNi4YZKDNly",
    "outputId": "69b28cce-0ad7-443b-a947-963db408016d"
   },
   "outputs": [
    {
     "name": "stderr",
     "output_type": "stream",
     "text": [
      "/Users/michael/opt/anaconda3/envs/robogames/lib/python3.7/site-packages/seaborn/_decorators.py:43: FutureWarning: Pass the following variable as a keyword arg: x. From version 0.12, the only valid positional argument will be `data`, and passing other arguments without an explicit keyword will result in an error or misinterpretation.\n",
      "  FutureWarning\n"
     ]
    },
    {
     "data": {
      "text/plain": [
       "Text(0.5, 0, 'annotated_rank')"
      ]
     },
     "execution_count": 8,
     "metadata": {},
     "output_type": "execute_result"
    },
    {
     "data": {
      "image/png": "[encoded data removed]",
      "text/plain": [
       "<Figure size 432x288 with 1 Axes>"
      ]
     },
     "metadata": {},
     "output_type": "display_data"
    }
   ],
   "source": [
    "sns.countplot(qrels['label']).set_xlabel('annotated_rank')"
   ]
  },
  {
   "cell_type": "code",
   "execution_count": 9,
   "metadata": {
    "executionInfo": {
     "elapsed": 178,
     "status": "ok",
     "timestamp": 1639364979591,
     "user": {
      "displayName": "Michael Kalmus",
      "photoUrl": "https://lh3.googleusercontent.com/a-/AOh14Gi0ctc0Rmv08ljnJF9_jYxXnpRUmXLNsmVmWJGA=s64",
      "userId": "08396629992174191279"
     },
     "user_tz": 300
    },
    "id": "imNa9waHNFP0"
   },
   "outputs": [],
   "source": [
    "#BM25\n",
    "bm25_pos = pt.BatchRetrieve(index_pos, wmodel=\"BM25\") \n",
    "#Sequential Dependence\n",
    "sdm = pt.rewrite.SDM()\n",
    "sdm_pipe = sdm >> bm25_pos\n",
    "#PL2\n",
    "pl2 = pt.BatchRetrieve(index_pos, wmodel=\"PL2\") \n",
    "#Random Documents\n",
    "random_weighting = lambda keyFreq, posting, entryStats, collStats: random.random()\n",
    "rand_docs = pt.BatchRetrieve(index_pos, wmodel=random_weighting) "
   ]
  },
  {
   "cell_type": "code",
   "execution_count": 10,
   "metadata": {
    "colab": {
     "base_uri": "https://localhost:8080/",
     "height": 171
    },
    "executionInfo": {
     "elapsed": 1049,
     "status": "ok",
     "timestamp": 1639365153088,
     "user": {
      "displayName": "Michael Kalmus",
      "photoUrl": "https://lh3.googleusercontent.com/a-/AOh14Gi0ctc0Rmv08ljnJF9_jYxXnpRUmXLNsmVmWJGA=s64",
      "userId": "08396629992174191279"
     },
     "user_tz": 300
    },
    "id": "ATzX150W5-bM",
    "outputId": "6831dadc-4ed8-47bb-c228-3e7b92b56436"
   },
   "outputs": [
    {
     "data": {
      "text/html": [
       "<div>\n",
       "<style scoped>\n",
       "    .dataframe tbody tr th:only-of-type {\n",
       "        vertical-align: middle;\n",
       "    }\n",
       "\n",
       "    .dataframe tbody tr th {\n",
       "        vertical-align: top;\n",
       "    }\n",
       "\n",
       "    .dataframe thead th {\n",
       "        text-align: right;\n",
       "    }\n",
       "</style>\n",
       "<table border=\"1\" class=\"dataframe\">\n",
       "  <thead>\n",
       "    <tr style=\"text-align: right;\">\n",
       "      <th></th>\n",
       "      <th>name</th>\n",
       "      <th>P.10</th>\n",
       "      <th>ndcg_cut_10</th>\n",
       "      <th>ndcg</th>\n",
       "      <th>map</th>\n",
       "      <th>mrt</th>\n",
       "    </tr>\n",
       "  </thead>\n",
       "  <tbody>\n",
       "    <tr>\n",
       "      <th>1</th>\n",
       "      <td>SDM</td>\n",
       "      <td>0.500000</td>\n",
       "      <td>0.602734</td>\n",
       "      <td>0.713028</td>\n",
       "      <td>0.613227</td>\n",
       "      <td>5.864178</td>\n",
       "    </tr>\n",
       "    <tr>\n",
       "      <th>0</th>\n",
       "      <td>BM25</td>\n",
       "      <td>0.500000</td>\n",
       "      <td>0.602661</td>\n",
       "      <td>0.712896</td>\n",
       "      <td>0.613028</td>\n",
       "      <td>22.941531</td>\n",
       "    </tr>\n",
       "    <tr>\n",
       "      <th>2</th>\n",
       "      <td>PL2</td>\n",
       "      <td>0.500000</td>\n",
       "      <td>0.603629</td>\n",
       "      <td>0.712161</td>\n",
       "      <td>0.611580</td>\n",
       "      <td>1.843674</td>\n",
       "    </tr>\n",
       "    <tr>\n",
       "      <th>3</th>\n",
       "      <td>Random</td>\n",
       "      <td>0.437037</td>\n",
       "      <td>0.557292</td>\n",
       "      <td>0.694937</td>\n",
       "      <td>0.573960</td>\n",
       "      <td>14.514449</td>\n",
       "    </tr>\n",
       "  </tbody>\n",
       "</table>\n",
       "</div>"
      ],
      "text/plain": [
       "     name      P.10  ndcg_cut_10      ndcg       map        mrt\n",
       "1     SDM  0.500000     0.602734  0.713028  0.613227   5.864178\n",
       "0    BM25  0.500000     0.602661  0.712896  0.613028  22.941531\n",
       "2     PL2  0.500000     0.603629  0.712161  0.611580   1.843674\n",
       "3  Random  0.437037     0.557292  0.694937  0.573960  14.514449"
      ]
     },
     "execution_count": 10,
     "metadata": {},
     "output_type": "execute_result"
    }
   ],
   "source": [
    "res = pt.Experiment(\n",
    "  [bm25_pos, sdm_pipe, pl2, rand_docs],\n",
    "  queries,\n",
    "  qrels,\n",
    "  eval_metrics=[\"ndcg\", \"ndcg_cut_10\", \"map\", \"P.10\", \"mrt\"],\n",
    "  names=['BM25', 'SDM', 'PL2', 'Random'],\n",
    "  baseline=3\n",
    ")\n",
    "\n",
    "res.sort_values('P.10', ascending=False)[['name', 'P.10', 'ndcg_cut_10', 'ndcg', 'map', 'mrt']]\n",
    "# res"
   ]
  },
  {
   "cell_type": "code",
   "execution_count": 11,
   "metadata": {
    "colab": {
     "base_uri": "https://localhost:8080/"
    },
    "executionInfo": {
     "elapsed": 153,
     "status": "ok",
     "timestamp": 1639365752340,
     "user": {
      "displayName": "Michael Kalmus",
      "photoUrl": "https://lh3.googleusercontent.com/a-/AOh14Gi0ctc0Rmv08ljnJF9_jYxXnpRUmXLNsmVmWJGA=s64",
      "userId": "08396629992174191279"
     },
     "user_tz": 300
    },
    "id": "xpvCNOjO_Cmt",
    "outputId": "5655121c-ed6d-4f81-ba07-0646100212dc"
   },
   "outputs": [],
   "source": [
    "RANK_CUTOFF = 10\n",
    "SEED=0\n",
    "\n",
    "tr_va_queries, test_queries = train_test_split(queries, test_size=7, random_state=SEED)\n",
    "train_queries, valid_queries =  train_test_split(tr_va_queries, test_size=5, random_state=SEED)\n",
    "\n",
    "valid_qrels = qrels[qrels['qid'].isin(list(valid_queries['qid']))]\n",
    "test_qrels = qrels[qrels['qid'].isin(list(test_queries['qid']))]\n",
    "train_qrels = qrels[qrels['qid'].isin(list(train_queries['qid']))]"
   ]
  },
  {
   "cell_type": "code",
   "execution_count": 14,
   "metadata": {
    "executionInfo": {
     "elapsed": 2,
     "status": "ok",
     "timestamp": 1639365752972,
     "user": {
      "displayName": "Michael Kalmus",
      "photoUrl": "https://lh3.googleusercontent.com/a-/AOh14Gi0ctc0Rmv08ljnJF9_jYxXnpRUmXLNsmVmWJGA=s64",
      "userId": "08396629992174191279"
     },
     "user_tz": 300
    },
    "id": "VvzEEFyHPb55"
   },
   "outputs": [],
   "source": [
    "def get_followers(docno):\n",
    "    docno = str(docno)\n",
    "    return author_df[author_df['docno'] == docno]['followers_count'].values[0]\n",
    "\n",
    "def get_following(docno):\n",
    "    docno = str(docno)\n",
    "    return author_df[author_df['docno'] == docno]['following_count'].values[0]\n",
    "\n",
    "def get_features(row):\n",
    "    docid = row[\"docno\"]\n",
    "    followers = get_followers(int(docid))\n",
    "    following = get_following(int(docid))\n",
    "    return np.array([followers, following])"
   ]
  },
  {
   "cell_type": "code",
   "execution_count": 15,
   "metadata": {
    "colab": {
     "base_uri": "https://localhost:8080/"
    },
    "executionInfo": {
     "elapsed": 7402,
     "status": "ok",
     "timestamp": 1639365760553,
     "user": {
      "displayName": "Michael Kalmus",
      "photoUrl": "https://lh3.googleusercontent.com/a-/AOh14Gi0ctc0Rmv08ljnJF9_jYxXnpRUmXLNsmVmWJGA=s64",
      "userId": "08396629992174191279"
     },
     "user_tz": 300
    },
    "id": "ttsRsqsaH7Gm",
    "outputId": "9193961d-7473-4a8d-e839-5408d5a33ff6"
   },
   "outputs": [
    {
     "name": "stderr",
     "output_type": "stream",
     "text": [
      "[Parallel(n_jobs=2)]: Using backend ThreadingBackend with 2 concurrent workers.\n",
      "[Parallel(n_jobs=2)]: Done  46 tasks      | elapsed:    0.1s\n",
      "[Parallel(n_jobs=2)]: Done 196 tasks      | elapsed:    0.2s\n",
      "[Parallel(n_jobs=2)]: Done 400 out of 400 | elapsed:    0.5s finished\n"
     ]
    }
   ],
   "source": [
    "featureset_01 = (bm25_pos) >> (\n",
    "    pt.transformer.IdentityTransformer()\n",
    "    **\n",
    "    sdm_pipe\n",
    "    **\n",
    "    pt.BatchRetrieve(index_pos, wmodel=\"PL2\")\n",
    "    **\n",
    "    pt.apply.doc_features(get_features)\n",
    "    )\n",
    "    \n",
    "f_names = ['BM25_score', 'SDM Score', 'PL2_score', 'followers', 'following']\n",
    "\n",
    "#Train RF (Pointwise LTR)\n",
    "rf = RandomForestRegressor(n_estimators=400, verbose=1, random_state=SEED, n_jobs=2)\n",
    "rf_pipe = featureset_01 >> pt.ltr.apply_learned_model(rf)\n",
    "rf_pipe.fit(train_queries, qrels)"
   ]
  },
  {
   "cell_type": "code",
   "execution_count": null,
   "metadata": {},
   "outputs": [],
   "source": [
    "#Train LambdaMART (Listwise LTR)\n",
    "lmart_l = lgb.LGBMRanker(\n",
    "    task=\"train\",\n",
    "    silent=False,\n",
    "    min_data_in_leaf=1,\n",
    "    min_sum_hessian_in_leaf=1,\n",
    "    max_bin=255,\n",
    "    num_leaves=31,\n",
    "    objective=\"lambdarank\",\n",
    "    metric=\"ndcg\",\n",
    "    ndcg_eval_at=[10],\n",
    "    ndcg_at=[10],\n",
    "    eval_at=[10],\n",
    "    learning_rate= .1,\n",
    "    importance_type=\"gain\",\n",
    "    num_iterations=100,\n",
    "    early_stopping_rounds=5\n",
    ")\n",
    "\n",
    "lmart_x_pipe = featureset_01 >> pt.ltr.apply_learned_model(lmart_l, form=\"ltr\", fit_kwargs={'eval_at':[10]})\n",
    "lmart_x_pipe.fit(train_queries, qrels, valid_queries, qrels)"
   ]
  },
  {
   "cell_type": "code",
   "execution_count": 19,
   "metadata": {
    "colab": {
     "base_uri": "https://localhost:8080/",
     "height": 242
    },
    "executionInfo": {
     "elapsed": 1067,
     "status": "ok",
     "timestamp": 1639365761616,
     "user": {
      "displayName": "Michael Kalmus",
      "photoUrl": "https://lh3.googleusercontent.com/a-/AOh14Gi0ctc0Rmv08ljnJF9_jYxXnpRUmXLNsmVmWJGA=s64",
      "userId": "08396629992174191279"
     },
     "user_tz": 300
    },
    "id": "698S5Ycr2P1S",
    "outputId": "d56e45df-6cf3-4a2b-93df-7fc09fd73916"
   },
   "outputs": [
    {
     "name": "stderr",
     "output_type": "stream",
     "text": [
      "[Parallel(n_jobs=2)]: Using backend ThreadingBackend with 2 concurrent workers.\n",
      "[Parallel(n_jobs=2)]: Done  46 tasks      | elapsed:    0.0s\n",
      "[Parallel(n_jobs=2)]: Done 196 tasks      | elapsed:    0.1s\n",
      "[Parallel(n_jobs=2)]: Done 400 out of 400 | elapsed:    0.1s finished\n"
     ]
    },
    {
     "data": {
      "text/html": [
       "<div>\n",
       "<style scoped>\n",
       "    .dataframe tbody tr th:only-of-type {\n",
       "        vertical-align: middle;\n",
       "    }\n",
       "\n",
       "    .dataframe tbody tr th {\n",
       "        vertical-align: top;\n",
       "    }\n",
       "\n",
       "    .dataframe thead th {\n",
       "        text-align: right;\n",
       "    }\n",
       "</style>\n",
       "<table border=\"1\" class=\"dataframe\">\n",
       "  <thead>\n",
       "    <tr style=\"text-align: right;\">\n",
       "      <th></th>\n",
       "      <th>name</th>\n",
       "      <th>P.10</th>\n",
       "      <th>ndcg_cut_10</th>\n",
       "      <th>ndcg</th>\n",
       "      <th>map</th>\n",
       "      <th>mrt</th>\n",
       "    </tr>\n",
       "  </thead>\n",
       "  <tbody>\n",
       "    <tr>\n",
       "      <th>0</th>\n",
       "      <td>BM25</td>\n",
       "      <td>0.34</td>\n",
       "      <td>0.484483</td>\n",
       "      <td>0.532565</td>\n",
       "      <td>0.474364</td>\n",
       "      <td>3.214411</td>\n",
       "    </tr>\n",
       "    <tr>\n",
       "      <th>1</th>\n",
       "      <td>Random Forest</td>\n",
       "      <td>0.34</td>\n",
       "      <td>0.481380</td>\n",
       "      <td>0.533212</td>\n",
       "      <td>0.477402</td>\n",
       "      <td>113.069824</td>\n",
       "    </tr>\n",
       "    <tr>\n",
       "      <th>2</th>\n",
       "      <td>Lambdarank</td>\n",
       "      <td>0.32</td>\n",
       "      <td>0.491653</td>\n",
       "      <td>0.543402</td>\n",
       "      <td>0.477492</td>\n",
       "      <td>57.657095</td>\n",
       "    </tr>\n",
       "    <tr>\n",
       "      <th>3</th>\n",
       "      <td>Random</td>\n",
       "      <td>0.32</td>\n",
       "      <td>0.443096</td>\n",
       "      <td>0.516684</td>\n",
       "      <td>0.462453</td>\n",
       "      <td>5.884663</td>\n",
       "    </tr>\n",
       "  </tbody>\n",
       "</table>\n",
       "</div>"
      ],
      "text/plain": [
       "            name  P.10  ndcg_cut_10      ndcg       map         mrt\n",
       "0           BM25  0.34     0.484483  0.532565  0.474364    3.214411\n",
       "1  Random Forest  0.34     0.481380  0.533212  0.477402  113.069824\n",
       "2     Lambdarank  0.32     0.491653  0.543402  0.477492   57.657095\n",
       "3         Random  0.32     0.443096  0.516684  0.462453    5.884663"
      ]
     },
     "execution_count": 19,
     "metadata": {},
     "output_type": "execute_result"
    }
   ],
   "source": [
    "# Evaluate the solutions\n",
    "res = pt.Experiment([bm25_pos, rf_pipe, lmart_x_pipe, rand_docs], \n",
    "              valid_queries, \n",
    "              valid_qrels, \n",
    "              eval_metrics=[\"map\", \"ndcg\", \"ndcg_cut_10\", \"mrt\", \"P.10\"], \n",
    "              names=[\"BM25\", \"Random Forest\", \"Lambdarank\", \"Random\"], perquery=False)\n",
    "res.sort_values('P.10', ascending=False)[['name', 'P.10', 'ndcg_cut_10', 'ndcg', 'map', 'mrt']]"
   ]
  },
  {
   "cell_type": "code",
   "execution_count": 20,
   "metadata": {
    "colab": {
     "base_uri": "https://localhost:8080/",
     "height": 202
    },
    "executionInfo": {
     "elapsed": 1567,
     "status": "ok",
     "timestamp": 1639365762978,
     "user": {
      "displayName": "Michael Kalmus",
      "photoUrl": "https://lh3.googleusercontent.com/a-/AOh14Gi0ctc0Rmv08ljnJF9_jYxXnpRUmXLNsmVmWJGA=s64",
      "userId": "08396629992174191279"
     },
     "user_tz": 300
    },
    "id": "TU-kYEABe1J1",
    "outputId": "9060570c-ba06-418c-fd5c-d3c95392454d"
   },
   "outputs": [
    {
     "data": {
      "text/html": [
       "<div>\n",
       "<style scoped>\n",
       "    .dataframe tbody tr th:only-of-type {\n",
       "        vertical-align: middle;\n",
       "    }\n",
       "\n",
       "    .dataframe tbody tr th {\n",
       "        vertical-align: top;\n",
       "    }\n",
       "\n",
       "    .dataframe thead th {\n",
       "        text-align: right;\n",
       "    }\n",
       "</style>\n",
       "<table border=\"1\" class=\"dataframe\">\n",
       "  <thead>\n",
       "    <tr style=\"text-align: right;\">\n",
       "      <th></th>\n",
       "      <th>name</th>\n",
       "      <th>map</th>\n",
       "      <th>ndcg</th>\n",
       "      <th>ndcg_cut_10</th>\n",
       "      <th>num_rel_ret</th>\n",
       "    </tr>\n",
       "  </thead>\n",
       "  <tbody>\n",
       "    <tr>\n",
       "      <th>0</th>\n",
       "      <td>BM25_score</td>\n",
       "      <td>0.474364</td>\n",
       "      <td>0.532565</td>\n",
       "      <td>0.484483</td>\n",
       "      <td>34.0</td>\n",
       "    </tr>\n",
       "    <tr>\n",
       "      <th>1</th>\n",
       "      <td>SDM Score</td>\n",
       "      <td>0.474364</td>\n",
       "      <td>0.532565</td>\n",
       "      <td>0.484483</td>\n",
       "      <td>34.0</td>\n",
       "    </tr>\n",
       "    <tr>\n",
       "      <th>2</th>\n",
       "      <td>PL2_score</td>\n",
       "      <td>0.474703</td>\n",
       "      <td>0.533058</td>\n",
       "      <td>0.491372</td>\n",
       "      <td>34.0</td>\n",
       "    </tr>\n",
       "    <tr>\n",
       "      <th>3</th>\n",
       "      <td>followers</td>\n",
       "      <td>0.471306</td>\n",
       "      <td>0.525745</td>\n",
       "      <td>0.473507</td>\n",
       "      <td>34.0</td>\n",
       "    </tr>\n",
       "    <tr>\n",
       "      <th>4</th>\n",
       "      <td>following</td>\n",
       "      <td>0.475482</td>\n",
       "      <td>0.531858</td>\n",
       "      <td>0.474562</td>\n",
       "      <td>34.0</td>\n",
       "    </tr>\n",
       "  </tbody>\n",
       "</table>\n",
       "</div>"
      ],
      "text/plain": [
       "         name       map      ndcg  ndcg_cut_10  num_rel_ret\n",
       "0  BM25_score  0.474364  0.532565     0.484483         34.0\n",
       "1   SDM Score  0.474364  0.532565     0.484483         34.0\n",
       "2   PL2_score  0.474703  0.533058     0.491372         34.0\n",
       "3   followers  0.471306  0.525745     0.473507         34.0\n",
       "4   following  0.475482  0.531858     0.474562         34.0"
      ]
     },
     "execution_count": 20,
     "metadata": {},
     "output_type": "execute_result"
    }
   ],
   "source": [
    "#Fit models with each feature to assess importance\n",
    "pt.Experiment(\n",
    "    [featureset_01 >> pt.ltr.feature_to_score(i) for i in range(len(f_names))],\n",
    "    valid_queries,\n",
    "    valid_qrels, \n",
    "    names=f_names,\n",
    "    eval_metrics=[\"map\", \"ndcg\", \"ndcg_cut_10\", \"num_rel_ret\"])"
   ]
  },
  {
   "cell_type": "code",
   "execution_count": 21,
   "metadata": {
    "colab": {
     "base_uri": "https://localhost:8080/",
     "height": 452
    },
    "executionInfo": {
     "elapsed": 708,
     "status": "ok",
     "timestamp": 1639365763683,
     "user": {
      "displayName": "Michael Kalmus",
      "photoUrl": "https://lh3.googleusercontent.com/a-/AOh14Gi0ctc0Rmv08ljnJF9_jYxXnpRUmXLNsmVmWJGA=s64",
      "userId": "08396629992174191279"
     },
     "user_tz": 300
    },
    "id": "c1yTLtfC2fII",
    "outputId": "ce928e0c-603a-490d-98fb-9188ca4a5c84"
   },
   "outputs": [
    {
     "data": {
      "image/png": "[encoded data removed]",
      "text/plain": [
       "<Figure size 720x432 with 2 Axes>"
      ]
     },
     "metadata": {
      "needs_background": "light"
     },
     "output_type": "display_data"
    }
   ],
   "source": [
    "# Inspect the models\n",
    "\n",
    "%matplotlib inline\n",
    "import matplotlib.pyplot as plt, numpy as np\n",
    "\n",
    "fig, (ax1, ax2) = plt.subplots(1, 2, figsize=(10, 6))\n",
    "\n",
    "ax1.bar(np.arange(len(f_names)), rf.feature_importances_)\n",
    "ax1.set_xticks(np.arange(len(f_names)))\n",
    "ax1.set_xticklabels(f_names, rotation=45, ha='right')\n",
    "ax1.set_title(\"Random Forests\\n Feature Importance\")\n",
    "\n",
    "ax2.bar(np.arange(len(f_names)), lmart_l.feature_importances_)\n",
    "ax2.set_xticks(np.arange(len(f_names)))\n",
    "ax2.set_xticklabels(f_names, rotation=45, ha='right')\n",
    "ax2.set_title(\"$\\lambda$MART\\n Feature Importance\")\n",
    "\n",
    "fig.show()\n"
   ]
  },
  {
   "cell_type": "code",
   "execution_count": 22,
   "metadata": {
    "colab": {
     "base_uri": "https://localhost:8080/"
    },
    "executionInfo": {
     "elapsed": 35636,
     "status": "ok",
     "timestamp": 1639365799315,
     "user": {
      "displayName": "Michael Kalmus",
      "photoUrl": "https://lh3.googleusercontent.com/a-/AOh14Gi0ctc0Rmv08ljnJF9_jYxXnpRUmXLNsmVmWJGA=s64",
      "userId": "08396629992174191279"
     },
     "user_tz": 300
    },
    "id": "3hbQSYlC3CFr",
    "outputId": "784ce352-1fa2-489f-f888-d270cb414d86"
   },
   "outputs": [
    {
     "name": "stdout",
     "output_type": "stream",
     "text": [
      "Best P.10 is 0.513333\n",
      "Best setting is ['BR(BM25) c=0.3', 'BR(BM25) bm25.k_1=0.6', 'BR(BM25) bm25.k_3=0.5']\n"
     ]
    }
   ],
   "source": [
    "# Perform grid search on BM25 to get c, k1, and k3\n",
    "BM25 = pt.BatchRetrieve(index_pos, wmodel=\"BM25\", controls={\"c\" : 0.75, \"bm25.k_1\": 0.75, \"bm25.k_3\": 0.75})\n",
    "gridsearch_bm25 = pt.GridSearch(\n",
    "    BM25,\n",
    "    {BM25: {\"c\" : [0, 0.1, 0.2, 0.3, 0.4, 0.5, 0.6, 0.7, 0.8, 0.9, 1 ],\n",
    "            \"bm25.k_1\": [0.3, 0.6, 0.9, 1.2, 1.4, 1.6, 2],\n",
    "            \"bm25.k_3\": [0.5, 2, 4, 6, 8, 10, 12, 14, 20]\n",
    "    }},\n",
    "    train_queries,\n",
    "    train_qrels,\n",
    "    \"P.10\")"
   ]
  },
  {
   "cell_type": "code",
   "execution_count": 23,
   "metadata": {
    "colab": {
     "base_uri": "https://localhost:8080/"
    },
    "executionInfo": {
     "elapsed": 7776,
     "status": "ok",
     "timestamp": 1639365807078,
     "user": {
      "displayName": "Michael Kalmus",
      "photoUrl": "https://lh3.googleusercontent.com/a-/AOh14Gi0ctc0Rmv08ljnJF9_jYxXnpRUmXLNsmVmWJGA=s64",
      "userId": "08396629992174191279"
     },
     "user_tz": 300
    },
    "id": "t4gXDmV58_4d",
    "outputId": "ccf5aaf6-5b9a-4023-de9b-f7a99318a6ed"
   },
   "outputs": [
    {
     "name": "stderr",
     "output_type": "stream",
     "text": [
      "[Parallel(n_jobs=2)]: Using backend ThreadingBackend with 2 concurrent workers.\n",
      "[Parallel(n_jobs=2)]: Done  46 tasks      | elapsed:    0.1s\n",
      "[Parallel(n_jobs=2)]: Done 196 tasks      | elapsed:    0.5s\n",
      "[Parallel(n_jobs=2)]: Done 400 out of 400 | elapsed:    1.1s finished\n"
     ]
    },
    {
     "name": "stdout",
     "output_type": "stream",
     "text": [
      "[LightGBM] [Warning] early_stopping_round is set=5, early_stopping_rounds=5 will be ignored. Current value: early_stopping_round=5\n",
      "[LightGBM] [Warning] min_sum_hessian_in_leaf is set=1, min_child_weight=0.001 will be ignored. Current value: min_sum_hessian_in_leaf=1\n",
      "[LightGBM] [Warning] min_data_in_leaf is set=1, min_child_samples=20 will be ignored. Current value: min_data_in_leaf=1\n",
      "[LightGBM] [Warning] min_sum_hessian_in_leaf is set=1, min_child_weight=0.001 will be ignored. Current value: min_sum_hessian_in_leaf=1\n",
      "[LightGBM] [Warning] min_data_in_leaf is set=1, min_child_samples=20 will be ignored. Current value: min_data_in_leaf=1\n",
      "[LightGBM] [Warning] Auto-choosing col-wise multi-threading, the overhead of testing was 0.000104 seconds.\n",
      "You can set `force_col_wise=true` to remove the overhead.\n",
      "[LightGBM] [Info] Total Bins 1197\n",
      "[LightGBM] [Info] Number of data points in the train set: 934, number of used features: 5\n",
      "[LightGBM] [Warning] early_stopping_round is set=5, early_stopping_rounds=5 will be ignored. Current value: early_stopping_round=5\n",
      "[LightGBM] [Warning] min_sum_hessian_in_leaf is set=1, min_child_weight=0.001 will be ignored. Current value: min_sum_hessian_in_leaf=1\n",
      "[LightGBM] [Warning] min_data_in_leaf is set=1, min_child_samples=20 will be ignored. Current value: min_data_in_leaf=1\n",
      "[LightGBM] [Warning] No further splits with positive gain, best gain: -inf\n",
      "[1]\tvalid_0's ndcg@10: 0.854927\n",
      "Training until validation scores don't improve for 5 rounds\n",
      "[LightGBM] [Warning] No further splits with positive gain, best gain: -inf\n",
      "[2]\tvalid_0's ndcg@10: 0.805655\n",
      "[LightGBM] [Warning] No further splits with positive gain, best gain: -inf\n",
      "[3]\tvalid_0's ndcg@10: 0.824183\n",
      "[LightGBM] [Warning] No further splits with positive gain, best gain: -inf\n",
      "[4]\tvalid_0's ndcg@10: 0.82821\n",
      "[LightGBM] [Warning] No further splits with positive gain, best gain: -inf\n",
      "[5]\tvalid_0's ndcg@10: 0.807574\n",
      "[LightGBM] [Warning] No further splits with positive gain, best gain: -inf\n",
      "[6]\tvalid_0's ndcg@10: 0.801083\n",
      "Early stopping, best iteration is:\n",
      "[1]\tvalid_0's ndcg@10: 0.854927\n"
     ]
    },
    {
     "name": "stderr",
     "output_type": "stream",
     "text": [
      "/usr/local/lib/python3.7/dist-packages/lightgbm/engine.py:151: UserWarning: Found `num_iterations` in params. Will use it instead of argument\n",
      "  warnings.warn(\"Found `{}` in params. Will use it instead of argument\".format(alias))\n",
      "/usr/local/lib/python3.7/dist-packages/lightgbm/engine.py:156: UserWarning: Found `early_stopping_rounds` in params. Will use it instead of argument\n",
      "  warnings.warn(\"Found `{}` in params. Will use it instead of argument\".format(alias))\n"
     ]
    }
   ],
   "source": [
    "# Put the new bm25 grid model in the pipeline\n",
    "bm25_grid_model = pt.BatchRetrieve(index_pos, wmodel=\"BM25\", \n",
    "                                   controls={\"c\" : 0.3, \"bm25.k_1\": 0.6, \"bm25.k_3\": 0.5})\n",
    "\n",
    "featureset_02 = (bm25_grid_model) >> (\n",
    "    pt.transformer.IdentityTransformer()\n",
    "    **\n",
    "    (sdm >> bm25_grid_model)\n",
    "    **\n",
    "    pt.BatchRetrieve(index_pos, wmodel=\"PL2\")\n",
    "    **\n",
    "    pt.apply.doc_features(get_features)\n",
    "    )\n",
    "\n",
    "f_names = ['BM25_score', 'SDM', 'PL2_score', 'followers', 'following']\n",
    "\n",
    "rf2 = RandomForestRegressor(n_estimators=200, min_samples_split=3, verbose=1, random_state=SEED, n_jobs=2)\n",
    "rf_pipe2 = featureset_02 >> pt.ltr.apply_learned_model(rf)\n",
    "rf_pipe.fit(train_queries, qrels)\n",
    "\n",
    "lmart_x_pipe2 = featureset_02 >> pt.ltr.apply_learned_model(lmart_l, form=\"ltr\", fit_kwargs={'eval_at':[10]})\n",
    "lmart_x_pipe2.fit(train_queries, qrels, valid_queries, qrels)"
   ]
  },
  {
   "cell_type": "code",
   "execution_count": 27,
   "metadata": {
    "colab": {
     "base_uri": "https://localhost:8080/",
     "height": 405
    },
    "executionInfo": {
     "elapsed": 6195,
     "status": "ok",
     "timestamp": 1639366554428,
     "user": {
      "displayName": "Michael Kalmus",
      "photoUrl": "https://lh3.googleusercontent.com/a-/AOh14Gi0ctc0Rmv08ljnJF9_jYxXnpRUmXLNsmVmWJGA=s64",
      "userId": "08396629992174191279"
     },
     "user_tz": 300
    },
    "id": "cj8E4JXLct_D",
    "outputId": "07674177-4504-492f-968d-1e62d9aad24a"
   },
   "outputs": [
    {
     "name": "stderr",
     "output_type": "stream",
     "text": [
      "[Parallel(n_jobs=2)]: Using backend ThreadingBackend with 2 concurrent workers.\n",
      "[Parallel(n_jobs=2)]: Done  46 tasks      | elapsed:    0.0s\n",
      "[Parallel(n_jobs=2)]: Done 196 tasks      | elapsed:    0.0s\n",
      "[Parallel(n_jobs=2)]: Done 400 out of 400 | elapsed:    0.1s finished\n",
      "[Parallel(n_jobs=2)]: Using backend ThreadingBackend with 2 concurrent workers.\n",
      "[Parallel(n_jobs=2)]: Done  46 tasks      | elapsed:    0.0s\n",
      "[Parallel(n_jobs=2)]: Done 196 tasks      | elapsed:    0.0s\n",
      "[Parallel(n_jobs=2)]: Done 400 out of 400 | elapsed:    0.1s finished\n"
     ]
    },
    {
     "data": {
      "text/html": [
       "<div>\n",
       "<style scoped>\n",
       "    .dataframe tbody tr th:only-of-type {\n",
       "        vertical-align: middle;\n",
       "    }\n",
       "\n",
       "    .dataframe tbody tr th {\n",
       "        vertical-align: top;\n",
       "    }\n",
       "\n",
       "    .dataframe thead th {\n",
       "        text-align: right;\n",
       "    }\n",
       "</style>\n",
       "<table border=\"1\" class=\"dataframe\">\n",
       "  <thead>\n",
       "    <tr style=\"text-align: right;\">\n",
       "      <th></th>\n",
       "      <th>name</th>\n",
       "      <th>P.10</th>\n",
       "      <th>ndcg_cut_10</th>\n",
       "      <th>ndcg</th>\n",
       "      <th>map</th>\n",
       "      <th>mrt</th>\n",
       "    </tr>\n",
       "  </thead>\n",
       "  <tbody>\n",
       "    <tr>\n",
       "      <th>0</th>\n",
       "      <td>BM25</td>\n",
       "      <td>0.671429</td>\n",
       "      <td>0.827496</td>\n",
       "      <td>0.899900</td>\n",
       "      <td>0.838570</td>\n",
       "      <td>2.803886</td>\n",
       "    </tr>\n",
       "    <tr>\n",
       "      <th>3</th>\n",
       "      <td>Tuned BM25</td>\n",
       "      <td>0.671429</td>\n",
       "      <td>0.822764</td>\n",
       "      <td>0.898235</td>\n",
       "      <td>0.835760</td>\n",
       "      <td>3.051109</td>\n",
       "    </tr>\n",
       "    <tr>\n",
       "      <th>2</th>\n",
       "      <td>BM25 + LMart</td>\n",
       "      <td>0.642857</td>\n",
       "      <td>0.826172</td>\n",
       "      <td>0.896415</td>\n",
       "      <td>0.827953</td>\n",
       "      <td>161.470933</td>\n",
       "    </tr>\n",
       "    <tr>\n",
       "      <th>5</th>\n",
       "      <td>Tuned BM25 + LMart</td>\n",
       "      <td>0.642857</td>\n",
       "      <td>0.818253</td>\n",
       "      <td>0.891492</td>\n",
       "      <td>0.811453</td>\n",
       "      <td>159.988603</td>\n",
       "    </tr>\n",
       "    <tr>\n",
       "      <th>1</th>\n",
       "      <td>BM25 + RF</td>\n",
       "      <td>0.614286</td>\n",
       "      <td>0.756275</td>\n",
       "      <td>0.868437</td>\n",
       "      <td>0.795929</td>\n",
       "      <td>276.238477</td>\n",
       "    </tr>\n",
       "    <tr>\n",
       "      <th>4</th>\n",
       "      <td>Tuned BM25 + RF</td>\n",
       "      <td>0.614286</td>\n",
       "      <td>0.755076</td>\n",
       "      <td>0.867459</td>\n",
       "      <td>0.794982</td>\n",
       "      <td>215.474190</td>\n",
       "    </tr>\n",
       "    <tr>\n",
       "      <th>6</th>\n",
       "      <td>Random</td>\n",
       "      <td>0.571429</td>\n",
       "      <td>0.743383</td>\n",
       "      <td>0.863141</td>\n",
       "      <td>0.778889</td>\n",
       "      <td>19.642353</td>\n",
       "    </tr>\n",
       "  </tbody>\n",
       "</table>\n",
       "</div>"
      ],
      "text/plain": [
       "                 name      P.10  ndcg_cut_10      ndcg       map         mrt\n",
       "0                BM25  0.671429     0.827496  0.899900  0.838570    2.803886\n",
       "3          Tuned BM25  0.671429     0.822764  0.898235  0.835760    3.051109\n",
       "2        BM25 + LMart  0.642857     0.826172  0.896415  0.827953  161.470933\n",
       "5  Tuned BM25 + LMart  0.642857     0.818253  0.891492  0.811453  159.988603\n",
       "1           BM25 + RF  0.614286     0.756275  0.868437  0.795929  276.238477\n",
       "4     Tuned BM25 + RF  0.614286     0.755076  0.867459  0.794982  215.474190\n",
       "6              Random  0.571429     0.743383  0.863141  0.778889   19.642353"
      ]
     },
     "execution_count": 27,
     "metadata": {},
     "output_type": "execute_result"
    }
   ],
   "source": [
    "# Final Experiment on Test Queries\n",
    "res = pt.Experiment(\n",
    "    [bm25_pos, rf_pipe, lmart_x_pipe, bm25_grid_model, rf_pipe2, lmart_x_pipe2, rand_docs],\n",
    "    test_queries,\n",
    "    test_qrels, \n",
    "    names=[\"BM25\",  \"BM25 + RF\", \"BM25 + LMart\", \"Tuned BM25\", \n",
    "           \"Tuned BM25 + RF\", \"Tuned BM25 + LMart\", \"Random\"],\n",
    "    eval_metrics=[\"map\", \"ndcg\", \"ndcg_cut_10\", \"P.10\", \"mrt\"], baseline=6)\n",
    "\n",
    "res.sort_values('P.10', ascending=False)[['name', 'P.10', 'ndcg_cut_10', 'ndcg', 'map', 'mrt']]\n",
    "# res"
   ]
  },
  {
   "cell_type": "code",
   "execution_count": 14,
   "metadata": {
    "colab": {
     "base_uri": "https://localhost:8080/"
    },
    "executionInfo": {
     "elapsed": 2194,
     "status": "ok",
     "timestamp": 1639370784991,
     "user": {
      "displayName": "Michael Kalmus",
      "photoUrl": "https://lh3.googleusercontent.com/a-/AOh14Gi0ctc0Rmv08ljnJF9_jYxXnpRUmXLNsmVmWJGA=s64",
      "userId": "08396629992174191279"
     },
     "user_tz": 300
    },
    "id": "hileEzJJVT_o",
    "outputId": "7ecd54b9-0dcb-4aee-ddbf-49b08bfaa255"
   },
   "outputs": [
    {
     "name": "stdout",
     "output_type": "stream",
     "text": [
      "Input a query, or type done (i.e. lawyer): doctor\n",
      "\n",
      "Query Results\n",
      "====================================================================================================\n",
      "Handle: @lesbianthasmin\n",
      "Name: marissa is a dark!thirteen whore\n",
      "Bio:\n",
      "i would let the thirteenth doctor rail me \n",
      "pls read series 14, episode 10 - the doctor pays\n",
      "--------------------------------------------------------------------------------------------------------------------------------------------------------------------------------------------------------\n",
      "Handle: @manisamartian\n",
      "Name: Steve\n",
      "Bio:\n",
      "Doctor, those that'll tell don't know, and those that know won't tell\n",
      "--------------------------------------------------------------------------------------------------------------------------------------------------------------------------------------------------------\n",
      "Handle: @GeorgeAnagli\n",
      "Name: Dr. George 💊\n",
      "Bio:\n",
      "| Sixth Year Doctor of Pharmacy | 0dade3 | Host: RxWithDrGeorge | For Business, Email : RxWithDrGeorge@gmail.com |\n",
      "--------------------------------------------------------------------------------------------------------------------------------------------------------------------------------------------------------\n",
      "Handle: @gaelicWizard\n",
      "Name: John D Pell\n",
      "Bio:\n",
      "Daloy Polizei means the same thing now as it did yesterday.  \n",
      "\n",
      "Autistic father, Jew, husband, nerd, Juris Doctor. (He/him)\n",
      "--------------------------------------------------------------------------------------------------------------------------------------------------------------------------------------------------------\n",
      "Handle: @Ctl_Alt_Del\n",
      "Name: CtlAltDel ♊️🏴‍☠️🎶👹👁‍🗨\n",
      "Bio:\n",
      "I'm a street walkin cheetah with a heart full of napalm. \n",
      "All opinions are my own......or at least the insightful ones are.\n",
      "He / Him / Señor /  Doctor /\n",
      "--------------------------------------------------------------------------------------------------------------------------------------------------------------------------------------------------------\n",
      "Input a query, or type done (i.e. lawyer): done\n"
     ]
    }
   ],
   "source": [
    "mod = rf_pipe\n",
    "# mod = lmart_x_pipe\n",
    "\n",
    "index_dir = './bio_index_positions_final'\n",
    "index_ref = index_dir + '/data.properties'\n",
    "index_pos = pt.IndexFactory.of(index_ref)\n",
    "bm25_pos = pt.BatchRetrieve(index_pos, wmodel=\"BM25\") \n",
    "\n",
    "while True:\n",
    "    query = input(f\"Input a query, or type done (i.e. lawyer): \")\n",
    "    if query.lower() == 'done':\n",
    "        break\n",
    "    res_df = bm25_pos.search(query).merge(author_df, on=\"docno\")[['handle', 'name', 'author_bio']][:5]\n",
    "    if len(res_df) == 0:\n",
    "        print('No results. Try again, or type done')\n",
    "        continue\n",
    "    else:\n",
    "        print(f\"\\nQuery Results\\n{'='*100}\")\n",
    "        for row in res_df.iterrows():\n",
    "            print(f\"Handle: @{row[1]['handle'].strip()}\")\n",
    "            print(f\"Name: {row[1]['name']}\")\n",
    "            print(f\"Bio:\\n{row[1]['author_bio']}\")\n",
    "            print('-'*200)"
   ]
  },
  {
   "cell_type": "code",
   "execution_count": null,
   "metadata": {
    "id": "frsZy3QIppRj"
   },
   "outputs": [],
   "source": []
  }
 ],
 "metadata": {
  "colab": {
   "collapsed_sections": [],
   "name": "04_Experiments_andLTR.ipynb",
   "provenance": []
  },
  "kernelspec": {
   "display_name": "Python 3 (ipykernel)",
   "language": "python",
   "name": "python3"
  },
  "language_info": {
   "codemirror_mode": {
    "name": "ipython",
    "version": 3
   },
   "file_extension": ".py",
   "mimetype": "text/x-python",
   "name": "python",
   "nbconvert_exporter": "python",
   "pygments_lexer": "ipython3",
   "version": "3.7.11"
  }
 },
 "nbformat": 4,
 "nbformat_minor": 1
}
